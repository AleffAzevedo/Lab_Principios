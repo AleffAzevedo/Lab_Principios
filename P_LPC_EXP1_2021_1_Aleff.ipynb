{
  "nbformat": 4,
  "nbformat_minor": 0,
  "metadata": {
    "colab": {
      "name": "P.LPC_EXP1_2021_1 - Aleff.ipynb",
      "provenance": [],
      "collapsed_sections": []
    },
    "kernelspec": {
      "name": "python3",
      "display_name": "Python 3"
    },
    "language_info": {
      "name": "python"
    }
  },
  "cells": [
    {
      "cell_type": "markdown",
      "metadata": {
        "id": "XxgUTahMTuLV"
      },
      "source": [
        "<center>\n",
        "<img src=\"https://upload.wikimedia.org/wikipedia/commons/thumb/5/5d/UfcgBrasao.jpg/1200px-UfcgBrasao.jpg\" width=120 height=120>\n",
        "\n",
        "<font face='courier'><B><h4>Laboratório de Princípios de Comunicações (LPC) </Br>\n",
        "Período 2021.1e </h4><h5>Tema(s): Introdução ao GNU Radio. Séries de Fourier. Distorção.</Br>\n",
        " Professor: Bruno B. Albert</Br>\n",
        " Preparação - Experimento I\n",
        " </Br>Nome: Áleff Azevedo Dias</Br>Matrícula: 119210241</h5></B>\n",
        "</font>\n",
        "</center>"
      ]
    },
    {
      "cell_type": "code",
      "source": [
        "#Configurando notebook\n",
        "\n",
        "from IPython.core.pylabtools import figsize\n",
        "\n",
        "from IPython.core.display import HTML\n",
        "HTML(\"\"\"\n",
        "<style>\n",
        ".output_png {\n",
        "    display: table-cell;\n",
        "    text-align: center;\n",
        "    vertical-align: middle;\n",
        "}\n",
        "</style>\n",
        "\"\"\")"
      ],
      "metadata": {
        "colab": {
          "base_uri": "https://localhost:8080/",
          "height": 17
        },
        "id": "F-L-kX4XrEtH",
        "outputId": "3c6a022d-8895-43b2-eb4a-939ea85edd6a"
      },
      "execution_count": null,
      "outputs": [
        {
          "output_type": "execute_result",
          "data": {
            "text/html": [
              "\n",
              "<style>\n",
              ".output_png {\n",
              "    display: table-cell;\n",
              "    text-align: center;\n",
              "    vertical-align: middle;\n",
              "}\n",
              "</style>\n"
            ],
            "text/plain": [
              "<IPython.core.display.HTML object>"
            ]
          },
          "metadata": {},
          "execution_count": 1
        }
      ]
    },
    {
      "cell_type": "code",
      "source": [
        "# Carrega pacotes\n",
        "import matplotlib.pyplot as plt\n",
        "from scipy.signal import square, sawtooth\n",
        "import pandas as pd\n",
        "import numpy as np\n",
        "from sympy import *\n",
        "\n",
        "# configura notebook\n",
        "pd.set_option(\"display.precision\", 2)\n",
        "pd.options.display.float_format = '{:,.2f}'.format\n",
        "figsize(10, 3)\n",
        "\n",
        "IPython_default = plt.rcParams.copy()\n",
        "plt.rc('grid', color='k', linestyle='-', linewidth=0.5)\n",
        "plt.rcParams['axes.grid'] = True"
      ],
      "metadata": {
        "id": "ggTzZJH2r0DH"
      },
      "execution_count": null,
      "outputs": []
    },
    {
      "cell_type": "markdown",
      "metadata": {
        "id": "e26CcCsiKSyI"
      },
      "source": [
        "# **1. Determine as séries de Fourier trigonométricas das formas de onda periódicas ilustradas na Figura 1.**\n",
        "<font face='courier'>\n",
        "\n",
        "Sabemos que,\n",
        "\n",
        "$$ \n",
        "\\begin{equation}\n",
        "f(t)=\\frac{a_{0}}{2}+\\sum_{n=1}^{\\infty}\\left[a_{n} \\cos \\left(\\omega_0 n t\\right)+b_{n} \\sin \\left(\\omega_0 n t\\right)\\right] \n",
        "\\end{equation}\n",
        "$$\n",
        "\n",
        "onde $a_n$ e $b_n$ são os coeficientes de Fourier da expansão de $f(t)$, calculados de acordo com as expressões\n",
        "\n",
        "$$\n",
        "\\begin{equation}\n",
        "a_{n}=\\frac{2}{T_0} \\int_{T_0} f(t) \\ \\cos \\left(\\omega_0 n t\\right) dt \n",
        "\\end{equation}\n",
        "$$\n",
        "\n",
        "$$\n",
        "\\begin{equation}\n",
        "b_{n}=\\frac{2}{T_0} \\int_{T_0} f(t) \\ \\sin \\left(\\omega_0 n t\\right) dt\n",
        "\\end{equation}\n",
        "$$\n",
        "\n",
        "\n",
        "E o coeficiente relativo ao nível DC para $f(t) = 0$,\n",
        "\n",
        "$$\n",
        "\\begin{equation}\n",
        "a_{0}=\\frac{1}{T_0} \\int_{T_0} f(t) \\ dt \n",
        "\\end{equation}\n",
        "$$\n",
        "\n",
        "\n",
        "Portanto, a priori, partindo desses conceitos, irei determinar analiticamente os coeficiêntes dos sinais indicados.</font>"
      ]
    },
    {
      "cell_type": "code",
      "source": [
        "# Declarando variáveis\n",
        "x = symbols('x')\n",
        "# Declarando inteiros\n",
        "n = symbols('n', integer=True)\n",
        "K, T, f = symbols('A, T, f', real = True)\n",
        "\n",
        "init_printing()\n",
        "\n",
        "f0 = 150            # Frequencia fundamental - [Hz]\n",
        "T0 = 1/f0           #Período fundamental - [s]\n",
        "w0 = 2 * pi * f0\n",
        "\n",
        "# Equações de integração de Fourier\n",
        "c = Lambda(x, cos (w0*n*x))\n",
        "s = Lambda(x, sin (w0*n*x))\n",
        "\n",
        "\n",
        "# Quesito a\n",
        "\n",
        "# Equações de reta do problema\n",
        "fa = Lambda(x, -1)\n",
        "ga = Lambda(x, 1)\n",
        "\n",
        "# Encontrando a0\n",
        "a0a =  integrate((1/T0)*fa(x), (x, -T0/2, 0)) + integrate((1/T0)*ga(x), (x, 0, T0/2))\n",
        "\n",
        "# Encontrando an\n",
        "ana =  integrate((2/T0)*fa(x)*c(x), (x, -T0/2, 0)) + integrate((2/T0)*ga(x)*c(x), (x, 0, T0/2))\n",
        "\n",
        "# Encontrando bn\n",
        "bna = integrate((2/T0)*fa(x)*s(x), (x, -T0/2, 0)) + integrate((2/T0)*ga(x)*s(x), (x, 0, T0/2))\n",
        "\n",
        "\n",
        "# Quesito b\n",
        "\n",
        "# Equações de reta do problema\n",
        "fb = Lambda(x, -600*x-1)\n",
        "gb = Lambda(x, 600*x-1)\n",
        "\n",
        "# Encontrando a0\n",
        "a0b = integrate((1/T0)*fb(x), (x, -T0/2, 0)) + integrate((1/T0)*gb(x), (x, 0, T0/2))\n",
        "\n",
        "# Encontrando an\n",
        "anb = integrate((2/T0)*fb(x)*c(x), (x, -T0/2, 0)) + integrate((2/T0)*gb(x)*c(x), (x, 0, T0/2))\n",
        "\n",
        "# Encontrando bn\n",
        "bnb = integrate((2/T0)*fb(x)*s(x), (x, -T0/2, 0)) + integrate((2/T0)*gb(x)*s(x), (x, 0, T0/2))\n",
        "\n",
        "\n",
        "# Quesito c\n",
        "\n",
        "# Equações de reta do problema\n",
        "fc = Lambda(x, 300*x + 1)\n",
        "gc = Lambda(x, 300*x - 1)\n",
        "\n",
        "# Encontrando a0\n",
        "a0c = integrate((1/T0)*fc(x), (x, -T0/2, 0)) + integrate((1/T0)*gc(x), (x, 0, T0/2))\n",
        "\n",
        "# Encontrando an\n",
        "anc = integrate((2/T0)*fc(x)*c(x), (x, -T0/2, 0)) + integrate((2/T0)*gc(x)*c(x), (x, 0, T0/2))\n",
        "\n",
        "# Encontrando bn\n",
        "bnc = integrate((2/T0)*fc(x)*s(x), (x, -T0/2, 0)) + integrate((2/T0)*gc(x)*s(x), (x, 0, T0/2))\n"
      ],
      "metadata": {
        "id": "wpTqZnJtrIwh"
      },
      "execution_count": null,
      "outputs": []
    },
    {
      "cell_type": "code",
      "source": [
        "# Geração de sinais periódicos\n",
        "\n",
        "fa = 400*f0  # Frequência de amostragem\n",
        "\n",
        "t    = np.arange(0, 40e-3, 1/fa)\n",
        "π    = np.pi\n",
        "\n",
        "A    = 1     # amplitude\n",
        "ϕ    = 0*π/4 # fase\n",
        "\n",
        "# gera sinais periódicos\n",
        "quad   = A*square(2*π*f0*t + ϕ)                # onda quadrada com frequência fundamental f0 e phase inicial ϕ\n",
        "triang = A*sawtooth(2*π*f0*t + ϕ, width = 0.5) # onda triangular com frequência fundamental f0 e phase inicial ϕ\n",
        "dente  = A*sawtooth(2*π*f0*t + ϕ)              # onda dente de serra com frequência fundamental f0 e phase inicial ϕ"
      ],
      "metadata": {
        "id": "FpCXbfWNnIT0"
      },
      "execution_count": null,
      "outputs": []
    },
    {
      "cell_type": "markdown",
      "source": [
        "## **a) Onda Quadrada**"
      ],
      "metadata": {
        "id": "p6xT7-m23YVD"
      }
    },
    {
      "cell_type": "markdown",
      "source": [
        "### ***Gráfico***"
      ],
      "metadata": {
        "id": "7KgPDdewotvX"
      }
    },
    {
      "cell_type": "code",
      "source": [
        "plt.figure()\n",
        "plt.plot(t, quad,'b')\n",
        "plt.ylim(quad.min(0)-0.1, quad.max(0)+0.1)\n",
        "plt.xlim(0,t.max(0))\n",
        "plt.title('Onda quadrada')\n",
        "plt.xlabel('tempo (s)')\n",
        "plt.ylabel('amplitude')\n",
        "plt.show()\n"
      ],
      "metadata": {
        "colab": {
          "base_uri": "https://localhost:8080/",
          "height": 241
        },
        "id": "UNuEQTrRlS26",
        "outputId": "8bd494df-1a89-411b-eed9-ee7ab289a514"
      },
      "execution_count": null,
      "outputs": [
        {
          "output_type": "display_data",
          "data": {
            "image/png": "[encoded data removed]",
            "text/plain": [
              "<Figure size 720x216 with 1 Axes>"
            ]
          },
          "metadata": {
            "needs_background": "light"
          }
        }
      ]
    },
    {
      "cell_type": "markdown",
      "source": [
        "### ***Análise Analítica***"
      ],
      "metadata": {
        "id": "5wQE6RA-o_kZ"
      }
    },
    {
      "cell_type": "code",
      "source": [
        "a0a"
      ],
      "metadata": {
        "colab": {
          "base_uri": "https://localhost:8080/",
          "height": 37
        },
        "id": "csexNiQJ3eDl",
        "outputId": "75c7dba6-f034-442e-c276-e222c0069b67"
      },
      "execution_count": null,
      "outputs": [
        {
          "output_type": "execute_result",
          "data": {
            "image/png": "[encoded data removed]",
            "text/latex": "$\\displaystyle 0$",
            "text/plain": [
              "0"
            ]
          },
          "metadata": {},
          "execution_count": 6
        }
      ]
    },
    {
      "cell_type": "markdown",
      "source": [
        "<font face='courier'>\n",
        "\n",
        "$$a_0 =  0 $$"
      ],
      "metadata": {
        "id": "ttjW_Mig-hPA"
      }
    },
    {
      "cell_type": "code",
      "source": [
        "ana"
      ],
      "metadata": {
        "colab": {
          "base_uri": "https://localhost:8080/",
          "height": 68
        },
        "id": "w02SAwso_rKo",
        "outputId": "46ca1ccf-bdc4-43e9-a9b4-0e2726a098b3"
      },
      "execution_count": null,
      "outputs": [
        {
          "output_type": "execute_result",
          "data": {
            "text/latex": "$\\displaystyle \\begin{cases} 0 & \\text{for}\\: n \\neq 0 \\\\-1.0 & \\text{otherwise} \\end{cases} + \\begin{cases} 0 & \\text{for}\\: n \\neq 0 \\\\1.0 & \\text{otherwise} \\end{cases}$",
            "text/plain": [
              "⎛⎧ 0    for n ≠ 0⎞   ⎛⎧ 0   for n ≠ 0⎞\n",
              "⎜⎨               ⎟ + ⎜⎨              ⎟\n",
              "⎝⎩-1.0  otherwise⎠   ⎝⎩1.0  otherwise⎠"
            ]
          },
          "metadata": {},
          "execution_count": 7
        }
      ]
    },
    {
      "cell_type": "markdown",
      "source": [
        "<font face='courier'>\n",
        "\n",
        "Logo,\n",
        "\n",
        "$$a_n = 0$$\n"
      ],
      "metadata": {
        "id": "eQbZ6CLY-QiU"
      }
    },
    {
      "cell_type": "code",
      "source": [
        "bna"
      ],
      "metadata": {
        "colab": {
          "base_uri": "https://localhost:8080/",
          "height": 68
        },
        "id": "Kou6Y-VI_uqE",
        "outputId": "45caf9c7-eeb8-4c89-df9a-9a61935e85a5"
      },
      "execution_count": null,
      "outputs": [
        {
          "output_type": "execute_result",
          "data": {
            "text/latex": "$\\displaystyle 2 \\left(\\begin{cases} - \\frac{1.0 \\left(-1\\right)^{n}}{\\pi n} + \\frac{1.0}{\\pi n} & \\text{for}\\: n \\neq 0 \\\\0 & \\text{otherwise} \\end{cases}\\right)$",
            "text/plain": [
              "  ⎛⎧      n                 ⎞\n",
              "  ⎜⎪  (-1)    1.0           ⎟\n",
              "  ⎜⎪- ───── + ───  for n ≠ 0⎟\n",
              "2⋅⎜⎨   π⋅n    π⋅n           ⎟\n",
              "  ⎜⎪                        ⎟\n",
              "  ⎜⎪      0        otherwise⎟\n",
              "  ⎝⎩                        ⎠"
            ]
          },
          "metadata": {},
          "execution_count": 8
        }
      ]
    },
    {
      "cell_type": "markdown",
      "source": [
        "<font face='courier'>\n",
        "\n",
        "Observe que $n \\in \\ \\forall \\ \\mathbb{Z}^*_+$,  portanto\n",
        "$$\n",
        "b_n = 2 \\ \\frac{1 - (-1)^n}{\\pi n}\n",
        "$$"
      ],
      "metadata": {
        "id": "qrFy-15z-9Iv"
      }
    },
    {
      "cell_type": "markdown",
      "source": [
        "### ***Análise Numérica***"
      ],
      "metadata": {
        "id": "QfthpF4EpJD4"
      }
    },
    {
      "cell_type": "code",
      "source": [
        "def fourierCoeff(t, f, P, ncoeffs):\n",
        "    \"\"\"\n",
        "     t  : vetor de instantes de tempo contendo pelo menos um período completo da função [segundos]\n",
        "     f  : vetor de valores de f(t) calculados para cada instante em t \n",
        "     P  : período fundamental de f [segundos]\n",
        "     ncoeffs: número de coeficiente de Fourier desejado [número inteiro maior que zero]\n",
        "     \n",
        "     an : coeficiente an\n",
        "     bn : coeficiente bn\n",
        "     \n",
        "    \"\"\"    \n",
        "    dt = t[1]-t[0]          # período de amostragem [passo de integração]\n",
        "    N  = int(np.ceil(P/dt)) # número de amostras correspondente a um período completo da onda   \n",
        "    \n",
        "    an = np.zeros((ncoeffs, 1)) # coeficientes an\n",
        "    bn = np.zeros((ncoeffs, 1)) # coeficientes bn\n",
        "    \n",
        "    # cálculo dos coeficientes an e bn utilizando o método trapezoidal de integração numérica     \n",
        "    for n in range(0, ncoeffs):# calcula coeficientes de Fourier para n=0 até n=ncoeffs-1\n",
        "        an[n] = np.trapz(f[0:N]*cos(2*np.pi*t[0:N]*n/P), dx=dt)\n",
        "        bn[n] = np.trapz(f[0:N]*sin(2*np.pi*t[0:N]*n/P), dx=dt)         \n",
        "    \n",
        "    an = an*2/P\n",
        "    bn = bn*2/P\n",
        "    \n",
        "    return an, bn"
      ],
      "metadata": {
        "id": "S522Lj7-pY_x"
      },
      "execution_count": null,
      "outputs": []
    },
    {
      "cell_type": "code",
      "source": [
        "import numpy as np\n",
        "from numpy import cos, sin, arctan2, sqrt, log10\n",
        "# Coeficientes de Fourier da onda quadrada\n",
        "\n",
        "ncoeffs = 10  # número de componentes harmônicos (incluindo componente dc, n=0)\n",
        "\n",
        "xf = f0*np.arange(0, ncoeffs) # frequências de cada componente harmônico\n",
        "\n",
        "# calcula coeficientes de Fourier\n",
        "quad_an, quad_bn = fourierCoeff(t, quad , 1/f0, ncoeffs)\n",
        "\n",
        "# plota gráfico\n",
        "plt.figure()\n",
        "plt.plot(xf, quad_an,'bo',label = 'coeficientes $a_{n}$')\n",
        "plt.vlines(xf, 0, quad_an,'b', alpha=0.5)\n",
        "plt.plot(xf, quad_bn,'rx',label = 'coeficientes $b_{n}$')\n",
        "plt.vlines(xf, 0, quad_bn,'r', alpha=0.5)\n",
        "\n",
        "plt.title('Onda quadrada')\n",
        "plt.legend()\n",
        "plt.xlim(0,xf.max(0))\n",
        "#plt.ylim(-2,2)\n",
        "plt.xlabel('freq (Hz)')\n",
        "plt.ylabel('amplitude')\n",
        "\n",
        "# Gera tabela com os coeficientes an, bn\n",
        "pd.DataFrame(np.hstack((quad_an, quad_bn)), columns=[\"$a_{n}$\", \"$b_{n}$\"]).T"
      ],
      "metadata": {
        "colab": {
          "base_uri": "https://localhost:8080/",
          "height": 336
        },
        "id": "TquAhAufpNw5",
        "outputId": "3ded9cc3-f0ce-4181-f913-6139e84ded74"
      },
      "execution_count": null,
      "outputs": [
        {
          "output_type": "execute_result",
          "data": {
            "text/html": [
              "\n",
              "  <div id=\"df-1591e77a-0109-4f67-b6bc-823613ddd1d0\">\n",
              "    <div class=\"colab-df-container\">\n",
              "      <div>\n",
              "<style scoped>\n",
              "    .dataframe tbody tr th:only-of-type {\n",
              "        vertical-align: middle;\n",
              "    }\n",
              "\n",
              "    .dataframe tbody tr th {\n",
              "        vertical-align: top;\n",
              "    }\n",
              "\n",
              "    .dataframe thead th {\n",
              "        text-align: right;\n",
              "    }\n",
              "</style>\n",
              "<table border=\"1\" class=\"dataframe\">\n",
              "  <thead>\n",
              "    <tr style=\"text-align: right;\">\n",
              "      <th></th>\n",
              "      <th>0</th>\n",
              "      <th>1</th>\n",
              "      <th>2</th>\n",
              "      <th>3</th>\n",
              "      <th>4</th>\n",
              "      <th>5</th>\n",
              "      <th>6</th>\n",
              "      <th>7</th>\n",
              "      <th>8</th>\n",
              "      <th>9</th>\n",
              "    </tr>\n",
              "  </thead>\n",
              "  <tbody>\n",
              "    <tr>\n",
              "      <th>$a_{n}$</th>\n",
              "      <td>0.00</td>\n",
              "      <td>0.01</td>\n",
              "      <td>-0.00</td>\n",
              "      <td>0.01</td>\n",
              "      <td>-0.00</td>\n",
              "      <td>0.01</td>\n",
              "      <td>-0.00</td>\n",
              "      <td>0.01</td>\n",
              "      <td>-0.00</td>\n",
              "      <td>0.01</td>\n",
              "    </tr>\n",
              "    <tr>\n",
              "      <th>$b_{n}$</th>\n",
              "      <td>0.00</td>\n",
              "      <td>1.27</td>\n",
              "      <td>-0.00</td>\n",
              "      <td>0.42</td>\n",
              "      <td>-0.00</td>\n",
              "      <td>0.25</td>\n",
              "      <td>-0.00</td>\n",
              "      <td>0.18</td>\n",
              "      <td>-0.00</td>\n",
              "      <td>0.14</td>\n",
              "    </tr>\n",
              "  </tbody>\n",
              "</table>\n",
              "</div>\n",
              "      <button class=\"colab-df-convert\" onclick=\"convertToInteractive('df-1591e77a-0109-4f67-b6bc-823613ddd1d0')\"\n",
              "              title=\"Convert this dataframe to an interactive table.\"\n",
              "              style=\"display:none;\">\n",
              "        \n",
              "  <svg xmlns=\"http://www.w3.org/2000/svg\" height=\"24px\"viewBox=\"0 0 24 24\"\n",
              "       width=\"24px\">\n",
              "    <path d=\"M0 0h24v24H0V0z\" fill=\"none\"/>\n",
              "    <path d=\"M18.56 5.44l.94 2.06.94-2.06 2.06-.94-2.06-.94-.94-2.06-.94 2.06-2.06.94zm-11 1L8.5 8.5l.94-2.06 2.06-.94-2.06-.94L8.5 2.5l-.94 2.06-2.06.94zm10 10l.94 2.06.94-2.06 2.06-.94-2.06-.94-.94-2.06-.94 2.06-2.06.94z\"/><path d=\"M17.41 7.96l-1.37-1.37c-.4-.4-.92-.59-1.43-.59-.52 0-1.04.2-1.43.59L10.3 9.45l-7.72 7.72c-.78.78-.78 2.05 0 2.83L4 21.41c.39.39.9.59 1.41.59.51 0 1.02-.2 1.41-.59l7.78-7.78 2.81-2.81c.8-.78.8-2.07 0-2.86zM5.41 20L4 18.59l7.72-7.72 1.47 1.35L5.41 20z\"/>\n",
              "  </svg>\n",
              "      </button>\n",
              "      \n",
              "  <style>\n",
              "    .colab-df-container {\n",
              "      display:flex;\n",
              "      flex-wrap:wrap;\n",
              "      gap: 12px;\n",
              "    }\n",
              "\n",
              "    .colab-df-convert {\n",
              "      background-color: #E8F0FE;\n",
              "      border: none;\n",
              "      border-radius: 50%;\n",
              "      cursor: pointer;\n",
              "      display: none;\n",
              "      fill: #1967D2;\n",
              "      height: 32px;\n",
              "      padding: 0 0 0 0;\n",
              "      width: 32px;\n",
              "    }\n",
              "\n",
              "    .colab-df-convert:hover {\n",
              "      background-color: #E2EBFA;\n",
              "      box-shadow: 0px 1px 2px rgba(60, 64, 67, 0.3), 0px 1px 3px 1px rgba(60, 64, 67, 0.15);\n",
              "      fill: #174EA6;\n",
              "    }\n",
              "\n",
              "    [theme=dark] .colab-df-convert {\n",
              "      background-color: #3B4455;\n",
              "      fill: #D2E3FC;\n",
              "    }\n",
              "\n",
              "    [theme=dark] .colab-df-convert:hover {\n",
              "      background-color: #434B5C;\n",
              "      box-shadow: 0px 1px 3px 1px rgba(0, 0, 0, 0.15);\n",
              "      filter: drop-shadow(0px 1px 2px rgba(0, 0, 0, 0.3));\n",
              "      fill: #FFFFFF;\n",
              "    }\n",
              "  </style>\n",
              "\n",
              "      <script>\n",
              "        const buttonEl =\n",
              "          document.querySelector('#df-1591e77a-0109-4f67-b6bc-823613ddd1d0 button.colab-df-convert');\n",
              "        buttonEl.style.display =\n",
              "          google.colab.kernel.accessAllowed ? 'block' : 'none';\n",
              "\n",
              "        async function convertToInteractive(key) {\n",
              "          const element = document.querySelector('#df-1591e77a-0109-4f67-b6bc-823613ddd1d0');\n",
              "          const dataTable =\n",
              "            await google.colab.kernel.invokeFunction('convertToInteractive',\n",
              "                                                     [key], {});\n",
              "          if (!dataTable) return;\n",
              "\n",
              "          const docLinkHtml = 'Like what you see? Visit the ' +\n",
              "            '<a target=\"_blank\" href=https://colab.research.google.com/notebooks/data_table.ipynb>data table notebook</a>'\n",
              "            + ' to learn more about interactive tables.';\n",
              "          element.innerHTML = '';\n",
              "          dataTable['output_type'] = 'display_data';\n",
              "          await google.colab.output.renderOutput(dataTable, element);\n",
              "          const docLink = document.createElement('div');\n",
              "          docLink.innerHTML = docLinkHtml;\n",
              "          element.appendChild(docLink);\n",
              "        }\n",
              "      </script>\n",
              "    </div>\n",
              "  </div>\n",
              "  "
            ],
            "text/plain": [
              "           0    1     2    3     4    5     6    7     8    9\n",
              "$a_{n}$ 0.00 0.01 -0.00 0.01 -0.00 0.01 -0.00 0.01 -0.00 0.01\n",
              "$b_{n}$ 0.00 1.27 -0.00 0.42 -0.00 0.25 -0.00 0.18 -0.00 0.14"
            ]
          },
          "metadata": {},
          "execution_count": 10
        },
        {
          "output_type": "display_data",
          "data": {
            "image/png": "[encoded data removed]",
            "text/plain": [
              "<Figure size 720x216 with 1 Axes>"
            ]
          },
          "metadata": {
            "needs_background": "light"
          }
        }
      ]
    },
    {
      "cell_type": "code",
      "source": [
        "# Aproximação da onda quadrada via somatório de harmônicas da série de Fourier\n",
        "\n",
        "ncoeffs = 10 # número de componentes harmônicos (incluindo componente dc, n=0)\n",
        "\n",
        "# calcula aproximação do sinal com um somatório finito de harmônicos\n",
        "quad_aprox = np.zeros(len(t))\n",
        "for n in range(0,ncoeffs):\n",
        "    if n != 0:\n",
        "        quad_aprox += quad_an[n]*cos(2*π*n*f0*t) + quad_bn[n]*sin(2*π*n*f0*t) # soma n-ésimo componente harmônico\n",
        "    else:\n",
        "        quad_aprox += quad_an[n]/2\n",
        "\n",
        "plt.plot(t, quad,'k--',label = 'original')        \n",
        "plt.plot(t,quad_aprox,'b',label = 'aprox')\n",
        "plt.xlim(0,t.max(0))\n",
        "plt.xlabel('tempo (s)')\n",
        "plt.ylabel('amplitude')\n",
        "plt.legend();"
      ],
      "metadata": {
        "colab": {
          "base_uri": "https://localhost:8080/",
          "height": 225
        },
        "id": "dUO9zRD8s-YJ",
        "outputId": "e956889f-3ecc-4369-92bd-e28c9193a8f9"
      },
      "execution_count": null,
      "outputs": [
        {
          "output_type": "display_data",
          "data": {
            "image/png": "[encoded data removed]",
            "text/plain": [
              "<Figure size 720x216 with 1 Axes>"
            ]
          },
          "metadata": {
            "needs_background": "light"
          }
        }
      ]
    },
    {
      "cell_type": "markdown",
      "source": [
        "## **b) Onda Triangular**"
      ],
      "metadata": {
        "id": "4aqE78XZARTK"
      }
    },
    {
      "cell_type": "markdown",
      "source": [
        "### ***Gráfico***"
      ],
      "metadata": {
        "id": "v2mePI5bsmuC"
      }
    },
    {
      "cell_type": "code",
      "source": [
        "plt.figure()\n",
        "plt.plot(t, triang,'b')\n",
        "plt.ylim(triang.min(0)-0.1, triang.max(0)+0.1)\n",
        "plt.xlim(0,t.max(0))\n",
        "plt.title('Onda triangular')\n",
        "plt.xlabel('tempo (s)')\n",
        "plt.ylabel('amplitude')\n",
        "plt.show()"
      ],
      "metadata": {
        "colab": {
          "base_uri": "https://localhost:8080/",
          "height": 241
        },
        "id": "gRZvUSw0mIBz",
        "outputId": "2fc64772-ee62-43d4-9152-a25e53f44db6"
      },
      "execution_count": null,
      "outputs": [
        {
          "output_type": "display_data",
          "data": {
            "image/png": "[encoded data removed]",
            "text/plain": [
              "<Figure size 720x216 with 1 Axes>"
            ]
          },
          "metadata": {
            "needs_background": "light"
          }
        }
      ]
    },
    {
      "cell_type": "markdown",
      "source": [
        "### ***Análise Analítica***"
      ],
      "metadata": {
        "id": "yGlMsHoNssFG"
      }
    },
    {
      "cell_type": "code",
      "source": [
        "a0b"
      ],
      "metadata": {
        "colab": {
          "base_uri": "https://localhost:8080/",
          "height": 37
        },
        "id": "hPvh6HAjAWBy",
        "outputId": "f42eeb59-3ffc-418f-e191-fdf2f155d076"
      },
      "execution_count": null,
      "outputs": [
        {
          "output_type": "execute_result",
          "data": {
            "image/png": "[encoded data removed]",
            "text/latex": "$\\displaystyle 2.22044604925031 \\cdot 10^{-16}$",
            "text/plain": [
              "2.22044604925031e-16"
            ]
          },
          "metadata": {},
          "execution_count": 13
        }
      ]
    },
    {
      "cell_type": "markdown",
      "source": [
        "<font face='courier'>\n",
        "\n",
        "$$a_0  \\approx 0$$\n"
      ],
      "metadata": {
        "id": "LAw6HiQjAoz4"
      }
    },
    {
      "cell_type": "code",
      "source": [
        "anb"
      ],
      "metadata": {
        "colab": {
          "base_uri": "https://localhost:8080/",
          "height": 68
        },
        "id": "rJo5RhIBAvNj",
        "outputId": "578ea4d8-e6f9-4511-b829-744f649dbb4d"
      },
      "execution_count": null,
      "outputs": [
        {
          "output_type": "execute_result",
          "data": {
            "text/latex": "$\\displaystyle 2 \\left(\\begin{cases} \\frac{2.0 \\left(-1\\right)^{n}}{\\pi^{2} n^{2}} - \\frac{2.0}{\\pi^{2} n^{2}} & \\text{for}\\: n \\neq 0 \\\\2.22044604925031 \\cdot 10^{-16} & \\text{otherwise} \\end{cases}\\right)$",
            "text/plain": [
              "  ⎛⎧         n                     ⎞\n",
              "  ⎜⎪ 2.0⋅(-1)     2.0              ⎟\n",
              "  ⎜⎪ ───────── - ─────    for n ≠ 0⎟\n",
              "2⋅⎜⎨    2  2      2  2             ⎟\n",
              "  ⎜⎪   π ⋅n      π ⋅n              ⎟\n",
              "  ⎜⎪                               ⎟\n",
              "  ⎝⎩2.22044604925031e-16  otherwise⎠"
            ]
          },
          "metadata": {},
          "execution_count": 14
        }
      ]
    },
    {
      "cell_type": "markdown",
      "source": [
        "<font face='courier'>\n",
        "\n",
        "Como $n \\in \\ \\forall \\ \\mathbb{Z}^*_+ $,\n",
        "\n",
        "$$a_n = 2 \\ \\frac{2 \\ (-1)^n - 2}{\\pi^2n^2} $$"
      ],
      "metadata": {
        "id": "lA7X68NXA1x_"
      }
    },
    {
      "cell_type": "code",
      "source": [
        "bnb"
      ],
      "metadata": {
        "colab": {
          "base_uri": "https://localhost:8080/",
          "height": 68
        },
        "id": "V4DQa1iIA6uY",
        "outputId": "8ffc31a4-06f4-4e19-c32b-94c4b152845d"
      },
      "execution_count": null,
      "outputs": [
        {
          "output_type": "execute_result",
          "data": {
            "text/latex": "$\\displaystyle \\begin{cases} - \\frac{1.0 \\left(-1\\right)^{n}}{\\pi n} - \\frac{1.0}{\\pi n} & \\text{for}\\: n \\neq 0 \\\\0 & \\text{otherwise} \\end{cases} + \\begin{cases} \\frac{1.0 \\left(-1\\right)^{n}}{\\pi n} + \\frac{1.0}{\\pi n} & \\text{for}\\: n \\neq 0 \\\\0 & \\text{otherwise} \\end{cases}$",
            "text/plain": [
              "⎛⎧      n                 ⎞   ⎛⎧        n                 ⎞\n",
              "⎜⎪  (-1)     1            ⎟   ⎜⎪1.0⋅(-1)    1.0           ⎟\n",
              "⎜⎪- ───── - ───  for n ≠ 0⎟   ⎜⎪───────── + ───  for n ≠ 0⎟\n",
              "⎜⎨   π⋅n    π⋅n           ⎟ + ⎜⎨   π⋅n      π⋅n           ⎟\n",
              "⎜⎪                        ⎟   ⎜⎪                          ⎟\n",
              "⎜⎪      0        otherwise⎟   ⎜⎪       0         otherwise⎟\n",
              "⎝⎩                        ⎠   ⎝⎩                          ⎠"
            ]
          },
          "metadata": {},
          "execution_count": 15
        }
      ]
    },
    {
      "cell_type": "markdown",
      "source": [
        "<font face='courier'>\n",
        "\n",
        "Simplificando a equação acima, determinamos que,\n",
        "\n",
        "$$b_n = 0$$"
      ],
      "metadata": {
        "id": "25ZmlIxgIXsW"
      }
    },
    {
      "cell_type": "markdown",
      "source": [
        "### ***Análise Numérica***"
      ],
      "metadata": {
        "id": "rdKZsa15szSH"
      }
    },
    {
      "cell_type": "code",
      "source": [
        "# Coeficientes de Fourier da onda triangular\n",
        "\n",
        "ncoeffs = 7 # número de componentes harmônicos (incluindo componente dc, n=0)\n",
        "\n",
        "xf = f0*np.arange(0, ncoeffs) # frequências de cada componente harmônico\n",
        "\n",
        "# calcula coeficientes de Fourier\n",
        "triang_an, triang_bn = fourierCoeff(t, triang , 1/f0, ncoeffs)\n",
        "\n",
        "# plota gráfico\n",
        "plt.figure()\n",
        "plt.plot(xf, triang_an,'bo',label = 'coeficientes $a_{n}$')\n",
        "plt.vlines(xf, 0, triang_an,'b', alpha=0.5)\n",
        "plt.plot(xf, triang_bn,'rx',label = 'coeficientes $b_{n}$')\n",
        "plt.vlines(xf, 0, triang_bn,'r', alpha=0.5)\n",
        "\n",
        "plt.title('Onda triangular')\n",
        "plt.legend()\n",
        "plt.xlim(0,xf.max(0))\n",
        "plt.xlabel('freq (Hz)')\n",
        "plt.ylabel('amplitude')\n",
        "\n",
        "# Gera tabela com os coeficientes an, bn\n",
        "pd.DataFrame(np.hstack((triang_an, triang_bn)), columns=[\"$a_{n}$\", \"$b_{n}$\"]).T"
      ],
      "metadata": {
        "colab": {
          "base_uri": "https://localhost:8080/",
          "height": 336
        },
        "id": "40kFJpD_tFpW",
        "outputId": "096a8bae-a98c-4eda-db1b-6eec062f62bf"
      },
      "execution_count": null,
      "outputs": [
        {
          "output_type": "execute_result",
          "data": {
            "text/html": [
              "\n",
              "  <div id=\"df-22d47669-870d-4a55-ad79-c119de29be53\">\n",
              "    <div class=\"colab-df-container\">\n",
              "      <div>\n",
              "<style scoped>\n",
              "    .dataframe tbody tr th:only-of-type {\n",
              "        vertical-align: middle;\n",
              "    }\n",
              "\n",
              "    .dataframe tbody tr th {\n",
              "        vertical-align: top;\n",
              "    }\n",
              "\n",
              "    .dataframe thead th {\n",
              "        text-align: right;\n",
              "    }\n",
              "</style>\n",
              "<table border=\"1\" class=\"dataframe\">\n",
              "  <thead>\n",
              "    <tr style=\"text-align: right;\">\n",
              "      <th></th>\n",
              "      <th>0</th>\n",
              "      <th>1</th>\n",
              "      <th>2</th>\n",
              "      <th>3</th>\n",
              "      <th>4</th>\n",
              "      <th>5</th>\n",
              "      <th>6</th>\n",
              "    </tr>\n",
              "  </thead>\n",
              "  <tbody>\n",
              "    <tr>\n",
              "      <th>$a_{n}$</th>\n",
              "      <td>0.00</td>\n",
              "      <td>-0.81</td>\n",
              "      <td>0.00</td>\n",
              "      <td>-0.09</td>\n",
              "      <td>0.00</td>\n",
              "      <td>-0.03</td>\n",
              "      <td>0.00</td>\n",
              "    </tr>\n",
              "    <tr>\n",
              "      <th>$b_{n}$</th>\n",
              "      <td>0.00</td>\n",
              "      <td>-0.00</td>\n",
              "      <td>-0.00</td>\n",
              "      <td>-0.00</td>\n",
              "      <td>-0.00</td>\n",
              "      <td>-0.00</td>\n",
              "      <td>-0.00</td>\n",
              "    </tr>\n",
              "  </tbody>\n",
              "</table>\n",
              "</div>\n",
              "      <button class=\"colab-df-convert\" onclick=\"convertToInteractive('df-22d47669-870d-4a55-ad79-c119de29be53')\"\n",
              "              title=\"Convert this dataframe to an interactive table.\"\n",
              "              style=\"display:none;\">\n",
              "        \n",
              "  <svg xmlns=\"http://www.w3.org/2000/svg\" height=\"24px\"viewBox=\"0 0 24 24\"\n",
              "       width=\"24px\">\n",
              "    <path d=\"M0 0h24v24H0V0z\" fill=\"none\"/>\n",
              "    <path d=\"M18.56 5.44l.94 2.06.94-2.06 2.06-.94-2.06-.94-.94-2.06-.94 2.06-2.06.94zm-11 1L8.5 8.5l.94-2.06 2.06-.94-2.06-.94L8.5 2.5l-.94 2.06-2.06.94zm10 10l.94 2.06.94-2.06 2.06-.94-2.06-.94-.94-2.06-.94 2.06-2.06.94z\"/><path d=\"M17.41 7.96l-1.37-1.37c-.4-.4-.92-.59-1.43-.59-.52 0-1.04.2-1.43.59L10.3 9.45l-7.72 7.72c-.78.78-.78 2.05 0 2.83L4 21.41c.39.39.9.59 1.41.59.51 0 1.02-.2 1.41-.59l7.78-7.78 2.81-2.81c.8-.78.8-2.07 0-2.86zM5.41 20L4 18.59l7.72-7.72 1.47 1.35L5.41 20z\"/>\n",
              "  </svg>\n",
              "      </button>\n",
              "      \n",
              "  <style>\n",
              "    .colab-df-container {\n",
              "      display:flex;\n",
              "      flex-wrap:wrap;\n",
              "      gap: 12px;\n",
              "    }\n",
              "\n",
              "    .colab-df-convert {\n",
              "      background-color: #E8F0FE;\n",
              "      border: none;\n",
              "      border-radius: 50%;\n",
              "      cursor: pointer;\n",
              "      display: none;\n",
              "      fill: #1967D2;\n",
              "      height: 32px;\n",
              "      padding: 0 0 0 0;\n",
              "      width: 32px;\n",
              "    }\n",
              "\n",
              "    .colab-df-convert:hover {\n",
              "      background-color: #E2EBFA;\n",
              "      box-shadow: 0px 1px 2px rgba(60, 64, 67, 0.3), 0px 1px 3px 1px rgba(60, 64, 67, 0.15);\n",
              "      fill: #174EA6;\n",
              "    }\n",
              "\n",
              "    [theme=dark] .colab-df-convert {\n",
              "      background-color: #3B4455;\n",
              "      fill: #D2E3FC;\n",
              "    }\n",
              "\n",
              "    [theme=dark] .colab-df-convert:hover {\n",
              "      background-color: #434B5C;\n",
              "      box-shadow: 0px 1px 3px 1px rgba(0, 0, 0, 0.15);\n",
              "      filter: drop-shadow(0px 1px 2px rgba(0, 0, 0, 0.3));\n",
              "      fill: #FFFFFF;\n",
              "    }\n",
              "  </style>\n",
              "\n",
              "      <script>\n",
              "        const buttonEl =\n",
              "          document.querySelector('#df-22d47669-870d-4a55-ad79-c119de29be53 button.colab-df-convert');\n",
              "        buttonEl.style.display =\n",
              "          google.colab.kernel.accessAllowed ? 'block' : 'none';\n",
              "\n",
              "        async function convertToInteractive(key) {\n",
              "          const element = document.querySelector('#df-22d47669-870d-4a55-ad79-c119de29be53');\n",
              "          const dataTable =\n",
              "            await google.colab.kernel.invokeFunction('convertToInteractive',\n",
              "                                                     [key], {});\n",
              "          if (!dataTable) return;\n",
              "\n",
              "          const docLinkHtml = 'Like what you see? Visit the ' +\n",
              "            '<a target=\"_blank\" href=https://colab.research.google.com/notebooks/data_table.ipynb>data table notebook</a>'\n",
              "            + ' to learn more about interactive tables.';\n",
              "          element.innerHTML = '';\n",
              "          dataTable['output_type'] = 'display_data';\n",
              "          await google.colab.output.renderOutput(dataTable, element);\n",
              "          const docLink = document.createElement('div');\n",
              "          docLink.innerHTML = docLinkHtml;\n",
              "          element.appendChild(docLink);\n",
              "        }\n",
              "      </script>\n",
              "    </div>\n",
              "  </div>\n",
              "  "
            ],
            "text/plain": [
              "           0     1     2     3     4     5     6\n",
              "$a_{n}$ 0.00 -0.81  0.00 -0.09  0.00 -0.03  0.00\n",
              "$b_{n}$ 0.00 -0.00 -0.00 -0.00 -0.00 -0.00 -0.00"
            ]
          },
          "metadata": {},
          "execution_count": 16
        },
        {
          "output_type": "display_data",
          "data": {
            "image/png": "[encoded data removed]",
            "text/plain": [
              "<Figure size 720x216 with 1 Axes>"
            ]
          },
          "metadata": {
            "needs_background": "light"
          }
        }
      ]
    },
    {
      "cell_type": "code",
      "source": [
        "# Aproximação da onda triangular via somatório de harmônicas da série de Fourier\n",
        "\n",
        "ncoeffs = 7 # número de componentes harmônicos (incluindo componente dc, n=0)\n",
        "\n",
        "# calcula aproximação do sinal com um somatório finito de harmônicos\n",
        "triang_aprox = np.zeros(len(t))\n",
        "for n in range(0,ncoeffs):\n",
        "    if n != 0:\n",
        "        triang_aprox += triang_an[n]*cos(2*π*n*f0*t) + triang_bn[n]*sin(2*π*n*f0*t) # soma n-ésimo componente harmônico\n",
        "    else:\n",
        "        triang_aprox += triang_an[n]/2\n",
        "\n",
        "plt.plot(t, triang,'k--',label = 'original')        \n",
        "plt.plot(t,triang_aprox,'b',label = 'aprox')\n",
        "plt.xlim(0,t.max(0))\n",
        "plt.xlabel('tempo (s)')\n",
        "plt.ylabel('amplitude')\n",
        "plt.legend();"
      ],
      "metadata": {
        "colab": {
          "base_uri": "https://localhost:8080/",
          "height": 225
        },
        "id": "StTIhHTCt2C4",
        "outputId": "a2b50b84-6841-4433-97aa-675880db505c"
      },
      "execution_count": null,
      "outputs": [
        {
          "output_type": "display_data",
          "data": {
            "image/png": "[encoded data removed]",
            "text/plain": [
              "<Figure size 720x216 with 1 Axes>"
            ]
          },
          "metadata": {
            "needs_background": "light"
          }
        }
      ]
    },
    {
      "cell_type": "markdown",
      "source": [
        "## **c) Onda Dente de Serra**"
      ],
      "metadata": {
        "id": "cxP2viGfBT4S"
      }
    },
    {
      "cell_type": "markdown",
      "source": [
        "### ***Gráfico***"
      ],
      "metadata": {
        "id": "GZ2-PcKGuB1B"
      }
    },
    {
      "cell_type": "code",
      "source": [
        "plt.figure()\n",
        "plt.plot(t, dente,'b')\n",
        "plt.ylim(dente.min(0)-0.1, dente.max(0)+0.1)\n",
        "plt.xlim(0,t.max(0))\n",
        "plt.title('Onda dente de serra')\n",
        "plt.xlabel('tempo (s)')\n",
        "plt.ylabel('amplitude');\n",
        "plt.show()"
      ],
      "metadata": {
        "colab": {
          "base_uri": "https://localhost:8080/",
          "height": 241
        },
        "id": "1usEuAncmM_3",
        "outputId": "fdd19ea5-e451-47f1-bdfa-cfdb1d4f4774"
      },
      "execution_count": null,
      "outputs": [
        {
          "output_type": "display_data",
          "data": {
            "image/png": "[encoded data removed]",
            "text/plain": [
              "<Figure size 720x216 with 1 Axes>"
            ]
          },
          "metadata": {
            "needs_background": "light"
          }
        }
      ]
    },
    {
      "cell_type": "markdown",
      "source": [
        "### ***Análise Analítica***"
      ],
      "metadata": {
        "id": "9iCxCoxvuG84"
      }
    },
    {
      "cell_type": "code",
      "source": [
        "a0c"
      ],
      "metadata": {
        "colab": {
          "base_uri": "https://localhost:8080/",
          "height": 37
        },
        "id": "SeSRi6oeBY2_",
        "outputId": "3c5cb9b7-cb69-4e86-b877-92a4480d93de"
      },
      "execution_count": null,
      "outputs": [
        {
          "output_type": "execute_result",
          "data": {
            "image/png": "[encoded data removed]",
            "text/latex": "$\\displaystyle 0$",
            "text/plain": [
              "0"
            ]
          },
          "metadata": {},
          "execution_count": 19
        }
      ]
    },
    {
      "cell_type": "markdown",
      "source": [
        "<font face='courier'>\n",
        "\n",
        "$$a_0 = 0 $$"
      ],
      "metadata": {
        "id": "L7T4M9zwBkcM"
      }
    },
    {
      "cell_type": "code",
      "source": [
        "anc"
      ],
      "metadata": {
        "colab": {
          "base_uri": "https://localhost:8080/",
          "height": 68
        },
        "id": "d0VoLMj3BpXX",
        "outputId": "a02f51ef-32c9-4466-f12e-734b8169e526"
      },
      "execution_count": null,
      "outputs": [
        {
          "output_type": "execute_result",
          "data": {
            "text/latex": "$\\displaystyle \\begin{cases} - \\frac{1.0 \\left(-1\\right)^{n}}{\\pi^{2} n^{2}} + \\frac{1.0}{\\pi^{2} n^{2}} & \\text{for}\\: n \\neq 0 \\\\0.5 & \\text{otherwise} \\end{cases} + \\begin{cases} \\frac{1.0 \\left(-1\\right)^{n}}{\\pi^{2} n^{2}} - \\frac{1.0}{\\pi^{2} n^{2}} & \\text{for}\\: n \\neq 0 \\\\-0.5 & \\text{otherwise} \\end{cases}$",
            "text/plain": [
              "⎛⎧      n                   ⎞   ⎛⎧        n                   ⎞\n",
              "⎜⎪  (-1)     1.0            ⎟   ⎜⎪1.0⋅(-1)      1             ⎟\n",
              "⎜⎪- ───── + ─────  for n ≠ 0⎟   ⎜⎪───────── - ─────  for n ≠ 0⎟\n",
              "⎜⎨   2  2    2  2           ⎟ + ⎜⎨   2  2      2  2           ⎟\n",
              "⎜⎪  π ⋅n    π ⋅n            ⎟   ⎜⎪  π ⋅n      π ⋅n            ⎟\n",
              "⎜⎪                          ⎟   ⎜⎪                            ⎟\n",
              "⎝⎩      0.5        otherwise⎠   ⎝⎩      -0.5         otherwise⎠"
            ]
          },
          "metadata": {},
          "execution_count": 20
        }
      ]
    },
    {
      "cell_type": "markdown",
      "source": [
        "<font face='courier'>\n",
        "\n",
        "Simplificando a equação acima, determinamos que\n",
        "$$a_n = 0$$"
      ],
      "metadata": {
        "id": "O96bLT_DF0QT"
      }
    },
    {
      "cell_type": "code",
      "source": [
        "bnc"
      ],
      "metadata": {
        "colab": {
          "base_uri": "https://localhost:8080/",
          "height": 68
        },
        "id": "RoFNG4fcB2J5",
        "outputId": "2062e40b-5bc0-47ec-d8e2-534032ed015f"
      },
      "execution_count": null,
      "outputs": [
        {
          "output_type": "execute_result",
          "data": {
            "text/latex": "$\\displaystyle 2 \\left(\\begin{cases} - \\frac{1.0}{\\pi n} & \\text{for}\\: n \\neq 0 \\\\0 & \\text{otherwise} \\end{cases}\\right)$",
            "text/plain": [
              "  ⎛⎧-1.0            ⎞\n",
              "  ⎜⎪─────  for n ≠ 0⎟\n",
              "2⋅⎜⎨ π⋅n            ⎟\n",
              "  ⎜⎪                ⎟\n",
              "  ⎝⎩  0    otherwise⎠"
            ]
          },
          "metadata": {},
          "execution_count": 21
        }
      ]
    },
    {
      "cell_type": "markdown",
      "source": [
        "<font face='courier'>\n",
        "\n",
        "Como $n \\in \\ \\forall \\ \\mathbb{Z}^*_+ $,\n",
        "\n",
        "$$\n",
        "b_n = \\dfrac{-2}{\\pi n}\n",
        "$$"
      ],
      "metadata": {
        "id": "IdMp4ob_n-vD"
      }
    },
    {
      "cell_type": "markdown",
      "source": [
        "### ***Análise Numérica***"
      ],
      "metadata": {
        "id": "Q5xExsAMuLNa"
      }
    },
    {
      "cell_type": "code",
      "source": [
        "# Coeficientes de Fourier da onda dente de serra\n",
        "\n",
        "ncoeffs = 10 # número de componentes harmônicos (incluindo componente dc, n=0)\n",
        "\n",
        "xf = f0*np.arange(0, ncoeffs) # frequências de cada componente harmônico\n",
        "\n",
        "# calcula coeficientes de Fourier\n",
        "dente_an, dente_bn = fourierCoeff(t, dente , 1/f0, ncoeffs)\n",
        "\n",
        "# plota gráficos\n",
        "plt.figure()\n",
        "plt.plot(xf, dente_an,'bo',label = 'coeficientes $a_{n}$')\n",
        "plt.vlines(xf, 0, dente_an,'b', alpha=0.5)\n",
        "plt.plot(xf, dente_bn,'rx',label = 'coeficientes $b_{n}$')\n",
        "plt.vlines(xf, 0, dente_bn,'r', alpha=0.5)\n",
        "\n",
        "plt.title('Onda dente de serra')\n",
        "plt.legend()\n",
        "plt.xlim(0,xf.max(0))\n",
        "plt.xlabel('freq (Hz)')\n",
        "plt.ylabel('amplitude')\n",
        "\n",
        "# Gera tabela com os coeficientes an, bn\n",
        "pd.DataFrame(np.hstack((dente_an, dente_bn)), columns=[\"$a_{n}$\", \"$b_{n}$\"]).T"
      ],
      "metadata": {
        "colab": {
          "base_uri": "https://localhost:8080/",
          "height": 336
        },
        "id": "DEVKz63AuQc6",
        "outputId": "9f4ef077-5154-4239-e347-27a0292fc666"
      },
      "execution_count": null,
      "outputs": [
        {
          "output_type": "execute_result",
          "data": {
            "text/html": [
              "\n",
              "  <div id=\"df-5e032ff1-0ac8-4f23-949d-3291755aba9f\">\n",
              "    <div class=\"colab-df-container\">\n",
              "      <div>\n",
              "<style scoped>\n",
              "    .dataframe tbody tr th:only-of-type {\n",
              "        vertical-align: middle;\n",
              "    }\n",
              "\n",
              "    .dataframe tbody tr th {\n",
              "        vertical-align: top;\n",
              "    }\n",
              "\n",
              "    .dataframe thead th {\n",
              "        text-align: right;\n",
              "    }\n",
              "</style>\n",
              "<table border=\"1\" class=\"dataframe\">\n",
              "  <thead>\n",
              "    <tr style=\"text-align: right;\">\n",
              "      <th></th>\n",
              "      <th>0</th>\n",
              "      <th>1</th>\n",
              "      <th>2</th>\n",
              "      <th>3</th>\n",
              "      <th>4</th>\n",
              "      <th>5</th>\n",
              "      <th>6</th>\n",
              "      <th>7</th>\n",
              "      <th>8</th>\n",
              "      <th>9</th>\n",
              "    </tr>\n",
              "  </thead>\n",
              "  <tbody>\n",
              "    <tr>\n",
              "      <th>$a_{n}$</th>\n",
              "      <td>-0.00</td>\n",
              "      <td>-0.00</td>\n",
              "      <td>-0.00</td>\n",
              "      <td>-0.00</td>\n",
              "      <td>-0.00</td>\n",
              "      <td>-0.00</td>\n",
              "      <td>-0.00</td>\n",
              "      <td>-0.00</td>\n",
              "      <td>-0.00</td>\n",
              "      <td>-0.00</td>\n",
              "    </tr>\n",
              "    <tr>\n",
              "      <th>$b_{n}$</th>\n",
              "      <td>0.00</td>\n",
              "      <td>-0.64</td>\n",
              "      <td>-0.32</td>\n",
              "      <td>-0.21</td>\n",
              "      <td>-0.16</td>\n",
              "      <td>-0.13</td>\n",
              "      <td>-0.11</td>\n",
              "      <td>-0.09</td>\n",
              "      <td>-0.08</td>\n",
              "      <td>-0.07</td>\n",
              "    </tr>\n",
              "  </tbody>\n",
              "</table>\n",
              "</div>\n",
              "      <button class=\"colab-df-convert\" onclick=\"convertToInteractive('df-5e032ff1-0ac8-4f23-949d-3291755aba9f')\"\n",
              "              title=\"Convert this dataframe to an interactive table.\"\n",
              "              style=\"display:none;\">\n",
              "        \n",
              "  <svg xmlns=\"http://www.w3.org/2000/svg\" height=\"24px\"viewBox=\"0 0 24 24\"\n",
              "       width=\"24px\">\n",
              "    <path d=\"M0 0h24v24H0V0z\" fill=\"none\"/>\n",
              "    <path d=\"M18.56 5.44l.94 2.06.94-2.06 2.06-.94-2.06-.94-.94-2.06-.94 2.06-2.06.94zm-11 1L8.5 8.5l.94-2.06 2.06-.94-2.06-.94L8.5 2.5l-.94 2.06-2.06.94zm10 10l.94 2.06.94-2.06 2.06-.94-2.06-.94-.94-2.06-.94 2.06-2.06.94z\"/><path d=\"M17.41 7.96l-1.37-1.37c-.4-.4-.92-.59-1.43-.59-.52 0-1.04.2-1.43.59L10.3 9.45l-7.72 7.72c-.78.78-.78 2.05 0 2.83L4 21.41c.39.39.9.59 1.41.59.51 0 1.02-.2 1.41-.59l7.78-7.78 2.81-2.81c.8-.78.8-2.07 0-2.86zM5.41 20L4 18.59l7.72-7.72 1.47 1.35L5.41 20z\"/>\n",
              "  </svg>\n",
              "      </button>\n",
              "      \n",
              "  <style>\n",
              "    .colab-df-container {\n",
              "      display:flex;\n",
              "      flex-wrap:wrap;\n",
              "      gap: 12px;\n",
              "    }\n",
              "\n",
              "    .colab-df-convert {\n",
              "      background-color: #E8F0FE;\n",
              "      border: none;\n",
              "      border-radius: 50%;\n",
              "      cursor: pointer;\n",
              "      display: none;\n",
              "      fill: #1967D2;\n",
              "      height: 32px;\n",
              "      padding: 0 0 0 0;\n",
              "      width: 32px;\n",
              "    }\n",
              "\n",
              "    .colab-df-convert:hover {\n",
              "      background-color: #E2EBFA;\n",
              "      box-shadow: 0px 1px 2px rgba(60, 64, 67, 0.3), 0px 1px 3px 1px rgba(60, 64, 67, 0.15);\n",
              "      fill: #174EA6;\n",
              "    }\n",
              "\n",
              "    [theme=dark] .colab-df-convert {\n",
              "      background-color: #3B4455;\n",
              "      fill: #D2E3FC;\n",
              "    }\n",
              "\n",
              "    [theme=dark] .colab-df-convert:hover {\n",
              "      background-color: #434B5C;\n",
              "      box-shadow: 0px 1px 3px 1px rgba(0, 0, 0, 0.15);\n",
              "      filter: drop-shadow(0px 1px 2px rgba(0, 0, 0, 0.3));\n",
              "      fill: #FFFFFF;\n",
              "    }\n",
              "  </style>\n",
              "\n",
              "      <script>\n",
              "        const buttonEl =\n",
              "          document.querySelector('#df-5e032ff1-0ac8-4f23-949d-3291755aba9f button.colab-df-convert');\n",
              "        buttonEl.style.display =\n",
              "          google.colab.kernel.accessAllowed ? 'block' : 'none';\n",
              "\n",
              "        async function convertToInteractive(key) {\n",
              "          const element = document.querySelector('#df-5e032ff1-0ac8-4f23-949d-3291755aba9f');\n",
              "          const dataTable =\n",
              "            await google.colab.kernel.invokeFunction('convertToInteractive',\n",
              "                                                     [key], {});\n",
              "          if (!dataTable) return;\n",
              "\n",
              "          const docLinkHtml = 'Like what you see? Visit the ' +\n",
              "            '<a target=\"_blank\" href=https://colab.research.google.com/notebooks/data_table.ipynb>data table notebook</a>'\n",
              "            + ' to learn more about interactive tables.';\n",
              "          element.innerHTML = '';\n",
              "          dataTable['output_type'] = 'display_data';\n",
              "          await google.colab.output.renderOutput(dataTable, element);\n",
              "          const docLink = document.createElement('div');\n",
              "          docLink.innerHTML = docLinkHtml;\n",
              "          element.appendChild(docLink);\n",
              "        }\n",
              "      </script>\n",
              "    </div>\n",
              "  </div>\n",
              "  "
            ],
            "text/plain": [
              "            0     1     2     3     4     5     6     7     8     9\n",
              "$a_{n}$ -0.00 -0.00 -0.00 -0.00 -0.00 -0.00 -0.00 -0.00 -0.00 -0.00\n",
              "$b_{n}$  0.00 -0.64 -0.32 -0.21 -0.16 -0.13 -0.11 -0.09 -0.08 -0.07"
            ]
          },
          "metadata": {},
          "execution_count": 22
        },
        {
          "output_type": "display_data",
          "data": {
            "image/png": "[encoded data removed]",
            "text/plain": [
              "<Figure size 720x216 with 1 Axes>"
            ]
          },
          "metadata": {
            "needs_background": "light"
          }
        }
      ]
    },
    {
      "cell_type": "code",
      "source": [
        "# Aproximação da onda dente de serra via somatório de harmônicas da série de Fourier\n",
        "\n",
        "ncoeffs = 10 # número de componentes harmônicos (incluindo componente dc, n=0)\n",
        "\n",
        "# calcula aproximação do sinal com um somatório finito de harmônicos\n",
        "dente_aprox = np.zeros(len(t))\n",
        "for n in range(0,ncoeffs):\n",
        "    if n != 0:\n",
        "        dente_aprox += dente_an[n]*cos(2*π*n*f0*t) + dente_bn[n]*sin(2*π*n*f0*t) # soma n-ésimo componente harmônico\n",
        "    else:\n",
        "        dente_aprox += dente_an[n]/2\n",
        "\n",
        "plt.plot(t, dente,'k--',label = 'original')        \n",
        "plt.plot(t, dente_aprox,'b',label = 'aprox')\n",
        "plt.xlim(0,t.max(0))\n",
        "plt.xlabel('tempo (s)')\n",
        "plt.ylabel('amplitude')\n",
        "plt.legend();"
      ],
      "metadata": {
        "colab": {
          "base_uri": "https://localhost:8080/",
          "height": 225
        },
        "id": "G9mU5k_HuydE",
        "outputId": "3a06cd30-6ddc-4561-d970-7259a4cc444c"
      },
      "execution_count": null,
      "outputs": [
        {
          "output_type": "display_data",
          "data": {
            "image/png": "[encoded data removed]",
            "text/plain": [
              "<Figure size 720x216 with 1 Axes>"
            ]
          },
          "metadata": {
            "needs_background": "light"
          }
        }
      ]
    },
    {
      "cell_type": "markdown",
      "source": [
        "# **2. Mudar a frequência fundamental afetará a potência de um sinal periódico? Explique. E a sua ocupação de banda? Explique.**"
      ],
      "metadata": {
        "id": "ycpvRi0POm9L"
      }
    },
    {
      "cell_type": "markdown",
      "source": [
        "<font face='courier'>\n",
        "\n",
        "A priore, tomemos um sinal $$x(t) = sen(2\\pi f_0 t + \\phi),$$ \n",
        "Onde $f0 = 150 Hz$"
      ],
      "metadata": {
        "id": "lbax7NElRo05"
      }
    },
    {
      "cell_type": "code",
      "source": [
        "f1= 150\n",
        "sinal = A*sin(2*π*f1*t + ϕ)\n",
        "\n",
        "# Cálculo da energia\n",
        "E_quad = np.sum(abs(sinal)**2)\n",
        "\n",
        "# Cálculo da potência\n",
        "N = len(sinal)\n",
        "P_quad = np.sum(abs(sinal)**2)/N\n",
        "\n",
        "print('Potência = %3.2f unidades de potência' %(P_quad))"
      ],
      "metadata": {
        "colab": {
          "base_uri": "https://localhost:8080/"
        },
        "id": "qU5JzKSHQSNg",
        "outputId": "9b23e64f-51d7-4a7f-e255-70d229244d3f"
      },
      "execution_count": null,
      "outputs": [
        {
          "output_type": "stream",
          "name": "stdout",
          "text": [
            "Potência = 0.50 unidades de potência\n"
          ]
        }
      ]
    },
    {
      "cell_type": "markdown",
      "source": [
        "<font face='courier'>\n",
        "\n",
        "Agora, tomemos o mesmo sinal $x(t)$ e apliquemos uma frequência fundamental $f0 = 1500 Hz$."
      ],
      "metadata": {
        "id": "T35pGCIASWUP"
      }
    },
    {
      "cell_type": "code",
      "source": [
        "f2 = 1500\n",
        "sinal = A*sin(2*π*f2*t + ϕ)\n",
        "\n",
        "# Cálculo da energia\n",
        "E_quad = np.sum(abs(sinal)**2)\n",
        "\n",
        "# Cálculo da potência\n",
        "N = len(sinal)\n",
        "P_quad = np.sum(abs(sinal)**2)/N\n",
        "\n",
        "print('Potência = %3.2f unidades de potência' %(P_quad))"
      ],
      "metadata": {
        "colab": {
          "base_uri": "https://localhost:8080/"
        },
        "id": "YcPNXN8zRK6l",
        "outputId": "9f3103e8-630b-4881-e263-634b0bc73d1d"
      },
      "execution_count": null,
      "outputs": [
        {
          "output_type": "stream",
          "name": "stdout",
          "text": [
            "Potência = 0.50 unidades de potência\n"
          ]
        }
      ]
    },
    {
      "cell_type": "markdown",
      "source": [
        "<font face='courier'>\n",
        "\n",
        "Note que a potência em ambas as situações são iguais, mesmo alterando a frequência fundamental. \n",
        "\n",
        "Observe a seguinte equação,\n",
        "\n",
        "$$\n",
        "P_{x}=\\lim _{T \\rightarrow \\infty} \\frac{1}{2 T} \\int_{-T}^{T}|x(t)|^{2} dt\n",
        "$$\n",
        "\n",
        "Resolvendo essa integral indefinida, encontramos que,"
      ],
      "metadata": {
        "id": "DJPsxg8XTzD5"
      }
    },
    {
      "cell_type": "code",
      "source": [
        "from sympy import *\n",
        "\n",
        "integrate(((1/(2*T))*(K*sin(2*pi*f*x))**2), (x, -T,T))\n"
      ],
      "metadata": {
        "colab": {
          "base_uri": "https://localhost:8080/",
          "height": 72
        },
        "id": "R1IgSdKBXNcF",
        "outputId": "fe347cbc-ae05-4575-a5b7-0b4cfa6a356a"
      },
      "execution_count": null,
      "outputs": [
        {
          "output_type": "execute_result",
          "data": {
            "text/latex": "$\\displaystyle \\begin{cases} - \\frac{A^{2} \\left(- \\pi T f + \\frac{\\sin{\\left(2 \\pi T f \\right)} \\cos{\\left(2 \\pi T f \\right)}}{2}\\right)}{4 \\pi T f} + \\frac{A^{2} \\left(\\pi T f - \\frac{\\sin{\\left(2 \\pi T f \\right)} \\cos{\\left(2 \\pi T f \\right)}}{2}\\right)}{4 \\pi T f} & \\text{for}\\: f \\neq 0 \\\\0 & \\text{otherwise} \\end{cases}$",
            "text/plain": [
              "⎧   2 ⎛         sin(2⋅π⋅T⋅f)⋅cos(2⋅π⋅T⋅f)⎞    2 ⎛        sin(2⋅π⋅T⋅f)⋅cos(2⋅π⋅\n",
              "⎪  A ⋅⎜-π⋅T⋅f + ─────────────────────────⎟   A ⋅⎜π⋅T⋅f - ─────────────────────\n",
              "⎪     ⎝                     2            ⎠      ⎝                    2        \n",
              "⎨- ─────────────────────────────────────── + ─────────────────────────────────\n",
              "⎪                  4⋅π⋅T⋅f                                  4⋅π⋅T⋅f           \n",
              "⎪                                                                             \n",
              "⎩                                        0                                    \n",
              "\n",
              "T⋅f)⎞           \n",
              "────⎟           \n",
              "    ⎠           \n",
              "─────  for f ≠ 0\n",
              "                \n",
              "                \n",
              "       otherwise"
            ]
          },
          "metadata": {},
          "execution_count": 26
        }
      ]
    },
    {
      "cell_type": "markdown",
      "source": [
        "<font face='courier'>\n",
        "\n",
        "Aplicando os limites de integração com $T \\rightarrow \\infty$, determinamos que\n",
        "\n",
        "$$\n",
        "P_x = \\dfrac{A^2}{2}\n",
        "$$\n",
        "\n",
        "A partir disto, chegamos a conclusão que a potência do sinal não depende da frequência fundamental. Se analisarmos a integral de potência, percebemos que ela estima a área ponderada de um sinal. Portanto, ainda que apliquemos frequências diferentes ao mesmo sinal, ele não irá alterar sua área ponderada."
      ],
      "metadata": {
        "id": "LKo2_8khhQYx"
      }
    },
    {
      "cell_type": "markdown",
      "source": [
        "<font face='courier'>\n",
        "\n",
        "Oposto a isso, ao mudarmos a frequência fundamental de um mesmo sinal, alteramos diretamente a ocupação de banda. Pois esta é o intervalo de frequências em que a maior parte da potência do sinal está contida. Portanto, a medida que se aumenta a frequência fundamental, aumenta-se a ocupação de banda."
      ],
      "metadata": {
        "id": "YIpljhbG2JSM"
      }
    },
    {
      "cell_type": "markdown",
      "source": [
        "# **3. A antena do seu aparelho celular capta uma potência de sinal geralmente em torno de −60 dBm (excelente conexão) e −110 dBm (conexão muito ruim). Quais são os valores de potência em mW correspondentes a estes limiares? E em dBW?.**"
      ],
      "metadata": {
        "id": "DL7x0Jbe3ZAY"
      }
    },
    {
      "cell_type": "code",
      "source": [
        "#Conversão de potências\n",
        "10**(-60/10)"
      ],
      "metadata": {
        "colab": {
          "base_uri": "https://localhost:8080/",
          "height": 37
        },
        "id": "0ihgVq123nTD",
        "outputId": "e0ec56de-f3e1-494e-c523-f17395b5a026"
      },
      "execution_count": null,
      "outputs": [
        {
          "output_type": "execute_result",
          "data": {
            "image/png": "[encoded data removed]",
            "text/latex": "$\\displaystyle 1.0 \\cdot 10^{-6}$",
            "text/plain": [
              "1e-06"
            ]
          },
          "metadata": {},
          "execution_count": 27
        }
      ]
    },
    {
      "cell_type": "code",
      "source": [
        "10*log10(10**(-6)*10**(-3))"
      ],
      "metadata": {
        "colab": {
          "base_uri": "https://localhost:8080/",
          "height": 37
        },
        "id": "-YsTUcfU60r2",
        "outputId": "f5558a6c-a9f3-4f32-ed2b-badaa9fb41d1"
      },
      "execution_count": null,
      "outputs": [
        {
          "output_type": "execute_result",
          "data": {
            "image/png": "[encoded data removed]",
            "text/latex": "$\\displaystyle -90.0$",
            "text/plain": [
              "-90.0"
            ]
          },
          "metadata": {},
          "execution_count": 28
        }
      ]
    },
    {
      "cell_type": "markdown",
      "source": [
        "<font face='courier'>\n",
        "\n",
        "Para $-60 \\ dBm$\n",
        "\n",
        "$$P = 1\\ .\\ 10^{-6} \\ mW$$\n",
        "e\n",
        "$$P_{dBW} = -90 \\ dBW$$"
      ],
      "metadata": {
        "id": "Os1ZdLBL7A4F"
      }
    },
    {
      "cell_type": "code",
      "source": [
        "10**(-110/10)"
      ],
      "metadata": {
        "colab": {
          "base_uri": "https://localhost:8080/",
          "height": 37
        },
        "id": "EOjXULWT6j7U",
        "outputId": "7d0aafa1-0f0e-479f-a798-3a84cc767a5b"
      },
      "execution_count": null,
      "outputs": [
        {
          "output_type": "execute_result",
          "data": {
            "image/png": "[encoded data removed]",
            "text/latex": "$\\displaystyle 1.0 \\cdot 10^{-11}$",
            "text/plain": [
              "1e-11"
            ]
          },
          "metadata": {},
          "execution_count": 29
        }
      ]
    },
    {
      "cell_type": "code",
      "source": [
        "10*log10(10**(-11)*10**(-3))"
      ],
      "metadata": {
        "colab": {
          "base_uri": "https://localhost:8080/",
          "height": 37
        },
        "id": "Ix_cEek-7JY4",
        "outputId": "f0e13829-9d9b-405b-d6db-0a533a345323"
      },
      "execution_count": null,
      "outputs": [
        {
          "output_type": "execute_result",
          "data": {
            "image/png": "[encoded data removed]",
            "text/latex": "$\\displaystyle -140.0$",
            "text/plain": [
              "-140.0"
            ]
          },
          "metadata": {},
          "execution_count": 30
        }
      ]
    },
    {
      "cell_type": "markdown",
      "source": [
        "<font face='courier'>\n",
        "\n",
        "Para $-110 \\ dBm$\n",
        "$$P = 1\\ .\\ 10^{-11} \\ mW$$\n",
        "e\n",
        "$$P_{dBW} = - 140 \\ dBW$$"
      ],
      "metadata": {
        "id": "dXwDiDeY6oO3"
      }
    }
  ]
}