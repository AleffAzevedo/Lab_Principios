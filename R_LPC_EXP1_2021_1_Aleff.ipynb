{
  "nbformat": 4,
  "nbformat_minor": 0,
  "metadata": {
    "colab": {
      "name": "R.LPC_EXP1_2021_1 - Aleff.ipynb",
      "provenance": [],
      "collapsed_sections": []
    },
    "kernelspec": {
      "name": "python3",
      "display_name": "Python 3"
    },
    "language_info": {
      "name": "python"
    }
  },
  "cells": [
    {
      "cell_type": "markdown",
      "metadata": {
        "id": "XxgUTahMTuLV"
      },
      "source": [
        "<center>\n",
        "<img src=\"https://upload.wikimedia.org/wikipedia/commons/thumb/5/5d/UfcgBrasao.jpg/1200px-UfcgBrasao.jpg\" width=120 height=120>\n",
        "\n",
        "<font face='courier'><B><h4>Laboratório de Princípios de Comunicações (LPC) </Br>\n",
        "Período 2021.1e </h4><h5>Tema(s): Introdução ao GNU Radio. Séries de Fourier. Distorção.</Br>\n",
        " Professor: Bruno B. Albert</Br>\n",
        " Relatório - Experimento I\n",
        " </Br>Nome: Áleff Azevedo Dias</Br>Matrícula: 119210241</h5></B>\n",
        "</font>\n",
        "</center>"
      ]
    },
    {
      "cell_type": "markdown",
      "metadata": {
        "id": "e26CcCsiKSyI"
      },
      "source": [
        "# **Experimento 1**\n"
      ]
    },
    {
      "cell_type": "markdown",
      "source": [
        "## **1) Por inspeção do gráfico, informe o período da senoide gerada? Você pode aplicar um zoom no gráfico para melhorar a visualização.**"
      ],
      "metadata": {
        "id": "p6xT7-m23YVD"
      }
    },
    {
      "cell_type": "markdown",
      "source": [
        "<font face='courier'>O período é de 8ms."
      ],
      "metadata": {
        "id": "TvI3p2wbvEVb"
      }
    },
    {
      "cell_type": "markdown",
      "source": [
        "##**2) Suponha que desejamos captar um sinal de voz e que o microfone não capta sinais acima de 8 kHz. Qual a taxa de amostragem mínima que devemos colocar no bloco Variable: samp_rate?**"
      ],
      "metadata": {
        "id": "1IrDwaA9u-eE"
      }
    },
    {
      "cell_type": "markdown",
      "source": [
        "<font face='courier'>De Acordo com O Critério de Nyquist, a frequência de amostragem deve ser maior que 2 vezes a maior componente de frequência do sinal. Nesse caso, a taxa de amostragem mínima deve ser de 16kHz."
      ],
      "metadata": {
        "id": "1IMETq6ZvEq8"
      }
    },
    {
      "cell_type": "markdown",
      "source": [
        "#**Experimento 2**"
      ],
      "metadata": {
        "id": "QESlwglSvQek"
      }
    },
    {
      "cell_type": "markdown",
      "source": [
        "##**1)\tAjuste frequência, amplitude e fase (seno ou cosseno) dessas três senoides conforme as séries de Fourier calculadas na etapa de preparação.**"
      ],
      "metadata": {
        "id": "6lEVfCzQvZhj"
      }
    },
    {
      "cell_type": "markdown",
      "source": [
        "###**(a) Para a onda quadrada $g_q(t)$, identifique (e informe abaixo) por inspeção no gráfico de tempo a amplitude e o período da forma de onda. Identifique também (e informe abaixo) por inspeção no gráfico de frequências as componentes (frequências e amplitudes em dB) do sinal.**"
      ],
      "metadata": {
        "id": "Mn67NRpGvggk"
      }
    },
    {
      "cell_type": "markdown",
      "source": [
        "<font face='courier'>Temos a amplitude do sinal fica em torno de 1 e o período é de 10 ms. Para as componentes em frequência temos os seguintes correspondentes em dB:</Br>\n",
        "$$100\\ Hz \\rightarrow  -13.84\\ dB\\\\\n",
        "300\\ Hz \\rightarrow  -22.80\\ dB\\\\\n",
        "500\\ Hz \\rightarrow  -26.74\\ dB$$\n"
      ],
      "metadata": {
        "id": "DTWlJhumvoMb"
      }
    },
    {
      "cell_type": "markdown",
      "source": [
        "###**(b) Faça o mesmo para a onda triangular $g_t(t)$.**"
      ],
      "metadata": {
        "id": "o81KUsUrwOkb"
      }
    },
    {
      "cell_type": "markdown",
      "source": [
        "<font face='courier'>Temos a amplitude do sinal fica em torno de 0,95 e o período é de 10 ms. Para as componentes em frequência temos os seguintes correspondentes em dB:</Br>\n",
        "$$100\\ Hz \\rightarrow  -17.84\\ dB\\\\\n",
        "300\\ Hz \\rightarrow  -35.80\\ dB\\\\\n",
        "500\\ Hz \\rightarrow  -44.74\\ dB$$"
      ],
      "metadata": {
        "id": "qcs6nYzqwUC7"
      }
    },
    {
      "cell_type": "markdown",
      "source": [
        "###**(c) Faça o mesmo para a onda dente de serra $g_d(t)$.**"
      ],
      "metadata": {
        "id": "yKFJOIYPwkZU"
      }
    },
    {
      "cell_type": "markdown",
      "source": [
        "<font face='courier'>Temos a amplitude do sinal fica em torno de 0,95 e o período é de 10 ms. Para as componentes em frequência temos os seguintes correspondentes em dB:</Br>\n",
        "$$100\\ Hz \\rightarrow  -19.39\\ dB\\\\\n",
        "300\\ Hz \\rightarrow  -25.80\\ dB\\\\\n",
        "500\\ Hz \\rightarrow  -29.27\\ dB$$"
      ],
      "metadata": {
        "id": "s5CQRuYXwxRb"
      }
    },
    {
      "cell_type": "markdown",
      "source": [
        "##**2)\tPor que a onda triangular gerada assemelha-se mais à forma de onda original do que às outras duas?**"
      ],
      "metadata": {
        "id": "MFSkUcPUxDMr"
      }
    },
    {
      "cell_type": "markdown",
      "source": [
        "<font face='courier'>Isso ocorre porque, para gerar uma onda triangular, as primeiras harmônicas são mais importantes do que no caso da onda dente de serra e da onda quadrada."
      ],
      "metadata": {
        "id": "eBdNmLtcxJHD"
      }
    },
    {
      "cell_type": "markdown",
      "source": [
        "#**Experimento 3**"
      ],
      "metadata": {
        "id": "EliczBL1xTFE"
      }
    },
    {
      "cell_type": "markdown",
      "source": [
        "##**1)\t  Observe que os sinais de entrada e saída do canal são idênticos. Esse seria um canal ideal, em que o sinal na entrada é exatamente o mesmo na saída, ou seja o canal não atenua ou atrasa o sinal transmitido.**"
      ],
      "metadata": {
        "id": "O3Ef6zTixWvU"
      }
    },
    {
      "cell_type": "markdown",
      "source": [
        "###**(a)\tNa aba Ganho/Atenuação, altere os valores de todas as componentes de frequência de 1 para 0.5. Houve distorção? Realize o mesmo procedimento mudando os valores para 1.25. Houve distorção? Descreva o que ocorre com o sinal nestas configurações e dê uma explicação para o que foi observado.**"
      ],
      "metadata": {
        "id": "4Ka9MOfXxetb"
      }
    },
    {
      "cell_type": "markdown",
      "source": [
        "<font face='courier'>Não há distorção, pois todas as componentes do sinal estam sendo atenuadas/aumentadas. O que acontece é que todo sinal está sendo multiplicado por um mesmo valor de atenuação/expansão, não caracterizando uma distorção."
      ],
      "metadata": {
        "id": "A5aEmxH1xjEb"
      }
    },
    {
      "cell_type": "markdown",
      "source": [
        "###**(b)\tNovamente na aba Ganho/Atenuação, retorne os valores da primeira e terceira componentes para 1 e altere o valor da segunda componente para 0.20. Houve distorção? Descreva o que ocorre com o sinal nestas configurações e dê uma explicação para o que foi observado.**"
      ],
      "metadata": {
        "id": "pBmP1Fudx4MV"
      }
    },
    {
      "cell_type": "markdown",
      "source": [
        "<font face='courier'>Há distorção, pois apenas uma componente em frequência do sinal está sendo atenuada. No caso anterior, todo o sinal de frequência era atenuado, o que não modificava o formato de onda, apenas a reduzia. Nesse caso, como apenas uma componente é modificada, ocorre distorção no formato de onda, logo no sinal. "
      ],
      "metadata": {
        "id": "4hTpSNHOx9tr"
      }
    },
    {
      "cell_type": "markdown",
      "source": [
        "###**(c)\tNa aba Ganho/Atenuação, retorne todos os valores para 1. Na aba Deslocamento de fase, altere o valor do deslocamento de fase da primeira componente para 6000. Houve distorção? Descreva o que ocorre com o sinal nestas configurações e dê uma explicação para o que foi observado.**"
      ],
      "metadata": {
        "id": "J-eYTHzHyJQ7"
      }
    },
    {
      "cell_type": "markdown",
      "source": [
        "<font face='courier'>Há distorção, pois, apenas uma componente em frequência do sinal está sendo deslocada. Nesse caso, como apenas uma componente é modificada, ocorre distorção no formato de onda, logo no sinal. "
      ],
      "metadata": {
        "id": "-DbZ-CKvyN6L"
      }
    },
    {
      "cell_type": "markdown",
      "source": [
        "###**(d)\tNovamente na aba Deslocamento de fase, altere os valores do deslocamento de fase da primeira, segunda e terceira componentes para 2000, 6000 e 10000, respectivamente. Houve distorção? Descreva o que ocorre com o sinal nestas configurações e dê uma explicação para o que foi observado.**"
      ],
      "metadata": {
        "id": "sodwIUnJySpL"
      }
    },
    {
      "cell_type": "markdown",
      "source": [
        "<font face='courier'>Não há distorção, pois está sendo atrasado todas as componentes de frequência. Logo, todo o sinal é atrasado, sem causar distorção do sinal."
      ],
      "metadata": {
        "id": "TlW5XqM4yXos"
      }
    },
    {
      "cell_type": "markdown",
      "source": [
        "###**(e)\tÉ possível identificar distorções de amplitude observando o espectro de potência do sinal? Explique. E distorções de fase?**"
      ],
      "metadata": {
        "id": "Fuv8Z7190W3E"
      }
    },
    {
      "cell_type": "markdown",
      "source": [
        "<font face='courier'>Sim. À medida que se altera o ganho das componentes do sinal, altera-se a amplitude no espectro de potência. Entretanto, não é perceptível a distorção de fase no espectro de potência."
      ],
      "metadata": {
        "id": "-6B_q40_0fdc"
      }
    },
    {
      "cell_type": "markdown",
      "source": [
        "###**(f)\tAs distorções que foram observadas neste experimento são distorções lineares ou não-lineares? Explique.**"
      ],
      "metadata": {
        "id": "mIkYCYcfyeWD"
      }
    },
    {
      "cell_type": "markdown",
      "source": [
        "<font face='courier'>Uma distorção linear é definida como uma alteração na amplitude ou fase sem adição de novas frequências. Uma distorção não linear ocorre quando novos componentes de frequência são gerados. Portanto, as distorções observadas neste experimento são distorções lineares."
      ],
      "metadata": {
        "id": "jg8d68cMyhT7"
      }
    }
  ]
}